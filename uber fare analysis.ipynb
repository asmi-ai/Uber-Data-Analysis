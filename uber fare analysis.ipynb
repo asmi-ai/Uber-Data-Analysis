{
 "cells": [
  {
   "cell_type": "markdown",
   "id": "fb17c3ac",
   "metadata": {},
   "source": [
    "# UBER FARE ANALYSIS"
   ]
  },
  {
   "cell_type": "code",
   "execution_count": 8,
   "id": "53a39b1f",
   "metadata": {},
   "outputs": [],
   "source": [
    "import pandas as pd\n",
    "import numpy as np\n",
    "import matplotlib.pyplot as plt\n",
    "import seaborn as sns\n",
    "from warnings import filterwarnings\n",
    "filterwarnings('ignore')"
   ]
  },
  {
   "cell_type": "code",
   "execution_count": 3,
   "id": "c1708ad8",
   "metadata": {},
   "outputs": [],
   "source": [
    "uber = pd.read_csv('uber_rides_data.csv')"
   ]
  },
  {
   "cell_type": "code",
   "execution_count": 4,
   "id": "b0220f69",
   "metadata": {},
   "outputs": [
    {
     "data": {
      "text/html": [
       "<div>\n",
       "<style scoped>\n",
       "    .dataframe tbody tr th:only-of-type {\n",
       "        vertical-align: middle;\n",
       "    }\n",
       "\n",
       "    .dataframe tbody tr th {\n",
       "        vertical-align: top;\n",
       "    }\n",
       "\n",
       "    .dataframe thead th {\n",
       "        text-align: right;\n",
       "    }\n",
       "</style>\n",
       "<table border=\"1\" class=\"dataframe\">\n",
       "  <thead>\n",
       "    <tr style=\"text-align: right;\">\n",
       "      <th></th>\n",
       "      <th>ride_id</th>\n",
       "      <th>fare_amount</th>\n",
       "      <th>pickup_datetime</th>\n",
       "      <th>pickup_longitude</th>\n",
       "      <th>pickup_latitude</th>\n",
       "      <th>dropoff_longitude</th>\n",
       "      <th>dropoff_latitude</th>\n",
       "      <th>passenger_count</th>\n",
       "    </tr>\n",
       "  </thead>\n",
       "  <tbody>\n",
       "    <tr>\n",
       "      <th>0</th>\n",
       "      <td>24238194</td>\n",
       "      <td>7.5</td>\n",
       "      <td>2015-05-07 19:52:06 UTC</td>\n",
       "      <td>-73.999817</td>\n",
       "      <td>40.738354</td>\n",
       "      <td>-73.999512</td>\n",
       "      <td>40.723217</td>\n",
       "      <td>1</td>\n",
       "    </tr>\n",
       "    <tr>\n",
       "      <th>1</th>\n",
       "      <td>27835199</td>\n",
       "      <td>7.7</td>\n",
       "      <td>2009-07-17 20:04:56 UTC</td>\n",
       "      <td>-73.994355</td>\n",
       "      <td>40.728225</td>\n",
       "      <td>-73.994710</td>\n",
       "      <td>40.750325</td>\n",
       "      <td>1</td>\n",
       "    </tr>\n",
       "    <tr>\n",
       "      <th>2</th>\n",
       "      <td>44984355</td>\n",
       "      <td>12.9</td>\n",
       "      <td>2009-08-24 21:45:00 UTC</td>\n",
       "      <td>-74.005043</td>\n",
       "      <td>40.740770</td>\n",
       "      <td>-73.962565</td>\n",
       "      <td>40.772647</td>\n",
       "      <td>1</td>\n",
       "    </tr>\n",
       "    <tr>\n",
       "      <th>3</th>\n",
       "      <td>25894730</td>\n",
       "      <td>5.3</td>\n",
       "      <td>2009-06-26 08:22:21 UTC</td>\n",
       "      <td>-73.976124</td>\n",
       "      <td>40.790844</td>\n",
       "      <td>-73.965316</td>\n",
       "      <td>40.803349</td>\n",
       "      <td>3</td>\n",
       "    </tr>\n",
       "    <tr>\n",
       "      <th>4</th>\n",
       "      <td>17610152</td>\n",
       "      <td>16.0</td>\n",
       "      <td>2014-08-28 17:47:00 UTC</td>\n",
       "      <td>-73.925023</td>\n",
       "      <td>40.744085</td>\n",
       "      <td>-73.973082</td>\n",
       "      <td>40.761247</td>\n",
       "      <td>5</td>\n",
       "    </tr>\n",
       "  </tbody>\n",
       "</table>\n",
       "</div>"
      ],
      "text/plain": [
       "    ride_id  fare_amount          pickup_datetime  pickup_longitude  \\\n",
       "0  24238194          7.5  2015-05-07 19:52:06 UTC        -73.999817   \n",
       "1  27835199          7.7  2009-07-17 20:04:56 UTC        -73.994355   \n",
       "2  44984355         12.9  2009-08-24 21:45:00 UTC        -74.005043   \n",
       "3  25894730          5.3  2009-06-26 08:22:21 UTC        -73.976124   \n",
       "4  17610152         16.0  2014-08-28 17:47:00 UTC        -73.925023   \n",
       "\n",
       "   pickup_latitude  dropoff_longitude  dropoff_latitude  passenger_count  \n",
       "0        40.738354         -73.999512         40.723217                1  \n",
       "1        40.728225         -73.994710         40.750325                1  \n",
       "2        40.740770         -73.962565         40.772647                1  \n",
       "3        40.790844         -73.965316         40.803349                3  \n",
       "4        40.744085         -73.973082         40.761247                5  "
      ]
     },
     "execution_count": 4,
     "metadata": {},
     "output_type": "execute_result"
    }
   ],
   "source": [
    "uber.head()"
   ]
  },
  {
   "cell_type": "code",
   "execution_count": 9,
   "id": "59f69f4b",
   "metadata": {},
   "outputs": [
    {
     "name": "stdout",
     "output_type": "stream",
     "text": [
      "<class 'pandas.core.frame.DataFrame'>\n",
      "RangeIndex: 200000 entries, 0 to 199999\n",
      "Data columns (total 8 columns):\n",
      " #   Column             Non-Null Count   Dtype  \n",
      "---  ------             --------------   -----  \n",
      " 0   ride_id            200000 non-null  int64  \n",
      " 1   fare_amount        200000 non-null  float64\n",
      " 2   pickup_datetime    200000 non-null  object \n",
      " 3   pickup_longitude   200000 non-null  float64\n",
      " 4   pickup_latitude    200000 non-null  float64\n",
      " 5   dropoff_longitude  199999 non-null  float64\n",
      " 6   dropoff_latitude   199999 non-null  float64\n",
      " 7   passenger_count    200000 non-null  int64  \n",
      "dtypes: float64(5), int64(2), object(1)\n",
      "memory usage: 12.2+ MB\n"
     ]
    }
   ],
   "source": [
    "uber.info()"
   ]
  },
  {
   "cell_type": "code",
   "execution_count": 10,
   "id": "bdcb620b",
   "metadata": {},
   "outputs": [
    {
     "data": {
      "text/html": [
       "<div>\n",
       "<style scoped>\n",
       "    .dataframe tbody tr th:only-of-type {\n",
       "        vertical-align: middle;\n",
       "    }\n",
       "\n",
       "    .dataframe tbody tr th {\n",
       "        vertical-align: top;\n",
       "    }\n",
       "\n",
       "    .dataframe thead th {\n",
       "        text-align: right;\n",
       "    }\n",
       "</style>\n",
       "<table border=\"1\" class=\"dataframe\">\n",
       "  <thead>\n",
       "    <tr style=\"text-align: right;\">\n",
       "      <th></th>\n",
       "      <th>ride_id</th>\n",
       "      <th>fare_amount</th>\n",
       "      <th>pickup_longitude</th>\n",
       "      <th>pickup_latitude</th>\n",
       "      <th>dropoff_longitude</th>\n",
       "      <th>dropoff_latitude</th>\n",
       "      <th>passenger_count</th>\n",
       "    </tr>\n",
       "  </thead>\n",
       "  <tbody>\n",
       "    <tr>\n",
       "      <th>count</th>\n",
       "      <td>2.000000e+05</td>\n",
       "      <td>200000.000000</td>\n",
       "      <td>200000.000000</td>\n",
       "      <td>200000.000000</td>\n",
       "      <td>199999.000000</td>\n",
       "      <td>199999.000000</td>\n",
       "      <td>200000.000000</td>\n",
       "    </tr>\n",
       "    <tr>\n",
       "      <th>mean</th>\n",
       "      <td>2.771250e+07</td>\n",
       "      <td>11.359955</td>\n",
       "      <td>-72.527638</td>\n",
       "      <td>39.935885</td>\n",
       "      <td>-72.525292</td>\n",
       "      <td>39.923890</td>\n",
       "      <td>1.684535</td>\n",
       "    </tr>\n",
       "    <tr>\n",
       "      <th>std</th>\n",
       "      <td>1.601382e+07</td>\n",
       "      <td>9.901776</td>\n",
       "      <td>11.437787</td>\n",
       "      <td>7.720539</td>\n",
       "      <td>13.117408</td>\n",
       "      <td>6.794829</td>\n",
       "      <td>1.385997</td>\n",
       "    </tr>\n",
       "    <tr>\n",
       "      <th>min</th>\n",
       "      <td>1.000000e+00</td>\n",
       "      <td>-52.000000</td>\n",
       "      <td>-1340.648410</td>\n",
       "      <td>-74.015515</td>\n",
       "      <td>-3356.666300</td>\n",
       "      <td>-881.985513</td>\n",
       "      <td>0.000000</td>\n",
       "    </tr>\n",
       "    <tr>\n",
       "      <th>25%</th>\n",
       "      <td>1.382535e+07</td>\n",
       "      <td>6.000000</td>\n",
       "      <td>-73.992065</td>\n",
       "      <td>40.734796</td>\n",
       "      <td>-73.991407</td>\n",
       "      <td>40.733823</td>\n",
       "      <td>1.000000</td>\n",
       "    </tr>\n",
       "    <tr>\n",
       "      <th>50%</th>\n",
       "      <td>2.774550e+07</td>\n",
       "      <td>8.500000</td>\n",
       "      <td>-73.981823</td>\n",
       "      <td>40.752592</td>\n",
       "      <td>-73.980093</td>\n",
       "      <td>40.753042</td>\n",
       "      <td>1.000000</td>\n",
       "    </tr>\n",
       "    <tr>\n",
       "      <th>75%</th>\n",
       "      <td>4.155530e+07</td>\n",
       "      <td>12.500000</td>\n",
       "      <td>-73.967153</td>\n",
       "      <td>40.767158</td>\n",
       "      <td>-73.963659</td>\n",
       "      <td>40.768001</td>\n",
       "      <td>2.000000</td>\n",
       "    </tr>\n",
       "    <tr>\n",
       "      <th>max</th>\n",
       "      <td>5.542357e+07</td>\n",
       "      <td>499.000000</td>\n",
       "      <td>57.418457</td>\n",
       "      <td>1644.421482</td>\n",
       "      <td>1153.572603</td>\n",
       "      <td>872.697628</td>\n",
       "      <td>208.000000</td>\n",
       "    </tr>\n",
       "  </tbody>\n",
       "</table>\n",
       "</div>"
      ],
      "text/plain": [
       "            ride_id    fare_amount  pickup_longitude  pickup_latitude  \\\n",
       "count  2.000000e+05  200000.000000     200000.000000    200000.000000   \n",
       "mean   2.771250e+07      11.359955        -72.527638        39.935885   \n",
       "std    1.601382e+07       9.901776         11.437787         7.720539   \n",
       "min    1.000000e+00     -52.000000      -1340.648410       -74.015515   \n",
       "25%    1.382535e+07       6.000000        -73.992065        40.734796   \n",
       "50%    2.774550e+07       8.500000        -73.981823        40.752592   \n",
       "75%    4.155530e+07      12.500000        -73.967153        40.767158   \n",
       "max    5.542357e+07     499.000000         57.418457      1644.421482   \n",
       "\n",
       "       dropoff_longitude  dropoff_latitude  passenger_count  \n",
       "count      199999.000000     199999.000000    200000.000000  \n",
       "mean          -72.525292         39.923890         1.684535  \n",
       "std            13.117408          6.794829         1.385997  \n",
       "min         -3356.666300       -881.985513         0.000000  \n",
       "25%           -73.991407         40.733823         1.000000  \n",
       "50%           -73.980093         40.753042         1.000000  \n",
       "75%           -73.963659         40.768001         2.000000  \n",
       "max          1153.572603        872.697628       208.000000  "
      ]
     },
     "execution_count": 10,
     "metadata": {},
     "output_type": "execute_result"
    }
   ],
   "source": [
    "uber.describe()"
   ]
  },
  {
   "cell_type": "markdown",
   "id": "8e421851",
   "metadata": {},
   "source": [
    "#### What is the shape of given dataset?\n"
   ]
  },
  {
   "cell_type": "code",
   "execution_count": 6,
   "id": "219cb0ed",
   "metadata": {},
   "outputs": [
    {
     "data": {
      "text/plain": [
       "(200000, 8)"
      ]
     },
     "execution_count": 6,
     "metadata": {},
     "output_type": "execute_result"
    }
   ],
   "source": [
    "uber.shape"
   ]
  },
  {
   "cell_type": "markdown",
   "id": "02c6c054",
   "metadata": {},
   "source": [
    "#### How many integer columns(by default) are given in the dataset?"
   ]
  },
  {
   "cell_type": "code",
   "execution_count": 11,
   "id": "795971fa",
   "metadata": {},
   "outputs": [
    {
     "data": {
      "text/plain": [
       "ride_id                int64\n",
       "fare_amount          float64\n",
       "pickup_datetime       object\n",
       "pickup_longitude     float64\n",
       "pickup_latitude      float64\n",
       "dropoff_longitude    float64\n",
       "dropoff_latitude     float64\n",
       "passenger_count        int64\n",
       "dtype: object"
      ]
     },
     "execution_count": 11,
     "metadata": {},
     "output_type": "execute_result"
    }
   ],
   "source": [
    "uber.dtypes"
   ]
  },
  {
   "cell_type": "code",
   "execution_count": 14,
   "id": "b05d1214",
   "metadata": {},
   "outputs": [
    {
     "name": "stdout",
     "output_type": "stream",
     "text": [
      "The number of integer columns in the dataset is: 2\n"
     ]
    }
   ],
   "source": [
    "integer_columns = uber.select_dtypes(include=['int']).shape[1]\n",
    "print(f'The number of integer columns in the dataset is: {integer_columns}')"
   ]
  },
  {
   "cell_type": "markdown",
   "id": "dafd88bd",
   "metadata": {},
   "source": [
    "#### How many missing values exists in 'dropoff_longitude' column?\n"
   ]
  },
  {
   "cell_type": "code",
   "execution_count": 15,
   "id": "925ffea8",
   "metadata": {},
   "outputs": [
    {
     "data": {
      "text/plain": [
       "ride_id              0\n",
       "fare_amount          0\n",
       "pickup_datetime      0\n",
       "pickup_longitude     0\n",
       "pickup_latitude      0\n",
       "dropoff_longitude    1\n",
       "dropoff_latitude     1\n",
       "passenger_count      0\n",
       "dtype: int64"
      ]
     },
     "execution_count": 15,
     "metadata": {},
     "output_type": "execute_result"
    }
   ],
   "source": [
    "uber.isnull().sum()"
   ]
  },
  {
   "cell_type": "code",
   "execution_count": 16,
   "id": "bc5c68a5",
   "metadata": {},
   "outputs": [
    {
     "name": "stdout",
     "output_type": "stream",
     "text": [
      "Number of missing values in 'dropoff_longitude' column: 1\n"
     ]
    }
   ],
   "source": [
    "# Check for missing values in the 'dropoff_longitude' column\n",
    "missing_values = uber['dropoff_longitude'].isna().sum()\n",
    "\n",
    "print(f\"Number of missing values in 'dropoff_longitude' column: {missing_values}\")"
   ]
  },
  {
   "cell_type": "code",
   "execution_count": 17,
   "id": "0b30ba13",
   "metadata": {},
   "outputs": [
    {
     "data": {
      "text/plain": [
       "1"
      ]
     },
     "execution_count": 17,
     "metadata": {},
     "output_type": "execute_result"
    }
   ],
   "source": [
    "uber.dropoff_longitude.isnull().sum()"
   ]
  },
  {
   "cell_type": "markdown",
   "id": "7021fbf9",
   "metadata": {},
   "source": [
    "#### What is the data type of ' pickup_datetime' feature in your data?"
   ]
  },
  {
   "cell_type": "code",
   "execution_count": 21,
   "id": "0fd21167",
   "metadata": {},
   "outputs": [
    {
     "name": "stdout",
     "output_type": "stream",
     "text": [
      "Data type of 'pickup_datetime' column: object\n"
     ]
    }
   ],
   "source": [
    "pickup_datetime_dtype = uber['pickup_datetime'].dtype\n",
    "\n",
    "print(f\"Data type of 'pickup_datetime' column: {pickup_datetime_dtype}\")"
   ]
  },
  {
   "cell_type": "markdown",
   "id": "0b47bab1",
   "metadata": {},
   "source": [
    "#### Which of the following is the correct syntax to convert 'pickup_datetime' to datetime datatype?"
   ]
  },
  {
   "cell_type": "code",
   "execution_count": 22,
   "id": "ee1fd279",
   "metadata": {},
   "outputs": [],
   "source": [
    "uber['pickup_datetime'] = pd.to_datetime(uber['pickup_datetime'])"
   ]
  },
  {
   "cell_type": "markdown",
   "id": "d1f20ad4",
   "metadata": {},
   "source": [
    "#### Which function can be used to remove null values from the dataframe?\n"
   ]
  },
  {
   "cell_type": "code",
   "execution_count": 25,
   "id": "774a8b51",
   "metadata": {},
   "outputs": [],
   "source": [
    "remove = uber.dropna()"
   ]
  },
  {
   "cell_type": "code",
   "execution_count": 26,
   "id": "e9d7e0dc",
   "metadata": {},
   "outputs": [
    {
     "data": {
      "text/plain": [
       "ride_id              0\n",
       "fare_amount          0\n",
       "pickup_datetime      0\n",
       "pickup_longitude     0\n",
       "pickup_latitude      0\n",
       "dropoff_longitude    1\n",
       "dropoff_latitude     1\n",
       "passenger_count      0\n",
       "dtype: int64"
      ]
     },
     "execution_count": 26,
     "metadata": {},
     "output_type": "execute_result"
    }
   ],
   "source": [
    "uber.isnull().sum()"
   ]
  },
  {
   "cell_type": "markdown",
   "id": "9b3eb961",
   "metadata": {},
   "source": [
    "#### What is the average fare amount?\n",
    "Remove the null values from the dataframe to answer the following question."
   ]
  },
  {
   "cell_type": "code",
   "execution_count": 28,
   "id": "d3b7e9e8",
   "metadata": {},
   "outputs": [
    {
     "name": "stdout",
     "output_type": "stream",
     "text": [
      "The average fare amount is: 11.359891549458371\n"
     ]
    }
   ],
   "source": [
    "# Calculate the average fare amount\n",
    "average_fare = remove['fare_amount'].mean()\n",
    "\n",
    "print(f'The average fare amount is: {average_fare}')"
   ]
  },
  {
   "cell_type": "markdown",
   "id": "ca5dbe9d",
   "metadata": {},
   "source": [
    "#### Calculate distance between each pickup and dropoff points using Haversine formula. \n",
    "What is the median haversine distance between pickup and dropoff location according to the given dataset?\n"
   ]
  },
  {
   "cell_type": "code",
   "execution_count": 29,
   "id": "40a865b5",
   "metadata": {},
   "outputs": [
    {
     "name": "stdout",
     "output_type": "stream",
     "text": [
      "Median Haversine Distance: 2.12 km\n"
     ]
    }
   ],
   "source": [
    "# Remove rows with null values\n",
    "data_cleaned = uber.dropna(subset=['dropoff_latitude', 'dropoff_longitude'])\n",
    "\n",
    "# Define a function to calculate Haversine distance\n",
    "def haversine_distance(lat1, lon1, lat2, lon2):\n",
    "    # Convert latitude and longitude from degrees to radians\n",
    "    lat1, lon1, lat2, lon2 = map(np.radians, [lat1, lon1, lat2, lon2])\n",
    "\n",
    "    # Haversine formula\n",
    "    dlat = lat2 - lat1\n",
    "    dlon = lon2 - lon1\n",
    "\n",
    "    a = np.sin(dlat / 2.0)**2 + np.cos(lat1) * np.cos(lat2) * np.sin(dlon / 2.0)**2\n",
    "    c = 2 * np.arcsin(np.sqrt(a))\n",
    "\n",
    "    # Radius of Earth in kilometers (use 6371 for km or 3956 for miles)\n",
    "    r = 6371  \n",
    "    return c * r\n",
    "\n",
    "# Calculate the Haversine distance for each row\n",
    "data_cleaned['haversine_distance'] = haversine_distance(\n",
    "    data_cleaned['pickup_latitude'], data_cleaned['pickup_longitude'],\n",
    "    data_cleaned['dropoff_latitude'], data_cleaned['dropoff_longitude']\n",
    ")\n",
    "\n",
    "# Calculate the median Haversine distance\n",
    "median_distance = data_cleaned['haversine_distance'].median()\n",
    "\n",
    "print(f\"Median Haversine Distance: {median_distance:.2f} km\")\n"
   ]
  },
  {
   "cell_type": "markdown",
   "id": "d1e885e5",
   "metadata": {},
   "source": [
    "### What is the maximum haversine distance between pickup and dropoff location according to the given dataset?"
   ]
  },
  {
   "cell_type": "code",
   "execution_count": 30,
   "id": "292b6bab",
   "metadata": {},
   "outputs": [
    {
     "name": "stdout",
     "output_type": "stream",
     "text": [
      "Maximum Haversine Distance: 16409.24 km\n"
     ]
    }
   ],
   "source": [
    "# Calculate the maximum Haversine distance\n",
    "max_distance = data_cleaned['haversine_distance'].max()\n",
    "\n",
    "print(f\"Maximum Haversine Distance: {max_distance:.2f} km\")"
   ]
  },
  {
   "cell_type": "markdown",
   "id": "4fa7973d",
   "metadata": {},
   "source": [
    "### How many rides have 0.0 haversine distance between pickup and dropoff location according to the given dataset?"
   ]
  },
  {
   "cell_type": "code",
   "execution_count": 32,
   "id": "ab4997f8",
   "metadata": {},
   "outputs": [
    {
     "name": "stdout",
     "output_type": "stream",
     "text": [
      "The number of rides with a Haversine distance of 0.0 is: 5632\n"
     ]
    }
   ],
   "source": [
    "# Count the number of rides with a Haversine distance of 0.0\n",
    "zero_distance_count = (data_cleaned['haversine_distance'] == 0.0).sum()\n",
    "\n",
    "print(f'The number of rides with a Haversine distance of 0.0 is: {zero_distance_count}')"
   ]
  },
  {
   "cell_type": "markdown",
   "id": "3a0fca13",
   "metadata": {},
   "source": [
    "### What is the mean 'fare_amount' for rides with 0 haversine distance?\n",
    "Do you sense something fishy? Try to analyze, and give your expert opinion in Jupyter Notebook."
   ]
  },
  {
   "cell_type": "code",
   "execution_count": 34,
   "id": "0053c73b",
   "metadata": {},
   "outputs": [
    {
     "name": "stdout",
     "output_type": "stream",
     "text": [
      "The mean fare amount for rides with 0 Haversine distance is: 11.585317826704578\n"
     ]
    }
   ],
   "source": [
    "# Filter rides with 0 Haversine distance\n",
    "zero_distance_rides = data_cleaned[data_cleaned['haversine_distance'] == 0.0]\n",
    "\n",
    "# Calculate the mean fare amount for rides with 0 Haversine distance\n",
    "mean_fare_zero_distance = zero_distance_rides['fare_amount'].mean()\n",
    "\n",
    "print(f'The mean fare amount for rides with 0 Haversine distance is: {mean_fare_zero_distance}')"
   ]
  },
  {
   "cell_type": "markdown",
   "id": "b8ea47ca",
   "metadata": {},
   "source": [
    "# Insights:\n",
    "\n",
    "If the calculated mean_fare for rides with 0.0 Haversine distance is greater than 0, this could indicate potential issues or inconsistencies such as:\n",
    "\n",
    "GPS Errors: The coordinates for pickup and dropoff may have been inaccurately recorded as the same location due to GPS errors.\n",
    "\n",
    "Incorrect Data Entry: Fare amounts may have been recorded even though no actual trip occurred.\n",
    "\n",
    "Customer Cancellations or Technical Failures: Some rides might have been charged even if no real trip took place (e.g., customer cancellation after pickup).\n",
    "\n",
    "Analysis:\n",
    "\n",
    "If the mean fare for rides with 0 distance is non-zero, it suggests something unusual, like passengers being charged for rides that were not actually completed. This could require deeper investigation or even corrective actions from the company to maintain transparency."
   ]
  },
  {
   "cell_type": "markdown",
   "id": "f658056a",
   "metadata": {},
   "source": [
    "### What is the maximum 'fare_amount' for a ride?\n"
   ]
  },
  {
   "cell_type": "code",
   "execution_count": 36,
   "id": "d9747ce8",
   "metadata": {},
   "outputs": [
    {
     "name": "stdout",
     "output_type": "stream",
     "text": [
      "Maximum fare amount for a ride: 499.00\n"
     ]
    }
   ],
   "source": [
    "# Find the maximum fare amount\n",
    "max_fare = data_cleaned['fare_amount'].max()\n",
    "\n",
    "print(f\"Maximum fare amount for a ride: {max_fare:.2f}\")"
   ]
  },
  {
   "cell_type": "markdown",
   "id": "ff9d6d58",
   "metadata": {},
   "source": [
    "### What is the haversine distance between pickup and dropoff location for the costliest ride?\n",
    "\n",
    "Do you sense something fishy? Try to analyze, and give your expert opinion in Jupyter Notebook."
   ]
  },
  {
   "cell_type": "code",
   "execution_count": 40,
   "id": "816ac6de",
   "metadata": {},
   "outputs": [
    {
     "name": "stdout",
     "output_type": "stream",
     "text": [
      "Maximum fare amount: 499.0\n",
      "Haversine distance for the costliest ride:  0.0007899213191009994 km\n"
     ]
    }
   ],
   "source": [
    "# Find the row with the maximum fare\n",
    "costliest_ride = data_cleaned.loc[data_cleaned['fare_amount'].idxmax()]\n",
    "\n",
    "# Calculate the Haversine distance for the costliest ride\n",
    "costliest_ride_distance = haversine_distance(\n",
    "    costliest_ride['pickup_latitude'], costliest_ride['pickup_longitude'],\n",
    "    costliest_ride['dropoff_latitude'], costliest_ride['dropoff_longitude']\n",
    ")\n",
    "\n",
    "# Print the maximum fare and the corresponding Haversine distance\n",
    "print(f\"Maximum fare amount: {costliest_ride['fare_amount']:}\")\n",
    "print(f\"Haversine distance for the costliest ride: {costliest_ride_distance: } km\")"
   ]
  },
  {
   "cell_type": "markdown",
   "id": "b5f49fd2",
   "metadata": {},
   "source": [
    "# Analysis:\n",
    "If the Haversine distance for the costliest ride is unusually low (e.g., close to 0 km) while the fare is extremely high, this could suggest something fishy, such as:\n",
    "\n",
    "Data Errors: There could be issues with data recording, like incorrect GPS coordinates.\n",
    "\n",
    "Fare Inconsistency: A high fare with a low or zero distance could indicate a bug or an anomaly in how fares are calculated.\n",
    "\n",
    "Cancellation or Surge Pricing: The ride might have been charged due to special conditions like cancellations or surge pricing, but this would need further verification."
   ]
  },
  {
   "cell_type": "markdown",
   "id": "424a595b",
   "metadata": {},
   "source": [
    "### How many rides were recorded in the year 2014?\n"
   ]
  },
  {
   "cell_type": "code",
   "execution_count": 42,
   "id": "5569ee49",
   "metadata": {},
   "outputs": [
    {
     "name": "stdout",
     "output_type": "stream",
     "text": [
      "Number of rides recorded in 2014: 29968\n"
     ]
    }
   ],
   "source": [
    "# Convert the 'pickup_datetime' column to datetime format\n",
    "uber['pickup_datetime'] = pd.to_datetime(uber['pickup_datetime'], errors='coerce')\n",
    "\n",
    "# Filter the rides that occurred in 2014\n",
    "rides_2014 = uber[uber['pickup_datetime'].dt.year == 2014]\n",
    "\n",
    "# Count the number of rides in 2014\n",
    "rides_2014_count = rides_2014.shape[0]\n",
    "\n",
    "print(f\"Number of rides recorded in 2014: {rides_2014_count}\")"
   ]
  },
  {
   "cell_type": "markdown",
   "id": "d2e5d440",
   "metadata": {},
   "source": [
    "### How many rides were recorded in the first quarter of 2014?"
   ]
  },
  {
   "cell_type": "code",
   "execution_count": 43,
   "id": "d6fce652",
   "metadata": {},
   "outputs": [
    {
     "name": "stdout",
     "output_type": "stream",
     "text": [
      "Number of rides recorded in the first quarter of 2014: 7687\n"
     ]
    }
   ],
   "source": [
    "# Filter for rides that occurred in the first quarter (Q1) of 2014\n",
    "rides_q1_2014 = uber[(uber['pickup_datetime'].dt.year == 2014) & \n",
    "                     (uber['pickup_datetime'].dt.month.isin([1, 2, 3]))]\n",
    "\n",
    "# Count the number of rides in the first quarter of 2014\n",
    "rides_q1_2014_count = rides_q1_2014.shape[0]\n",
    "\n",
    "print(f\"Number of rides recorded in the first quarter of 2014: {rides_q1_2014_count}\")"
   ]
  },
  {
   "cell_type": "markdown",
   "id": "15913a2a",
   "metadata": {},
   "source": [
    "### On which day of the week in September 2010, maximum rides were recorded ?"
   ]
  },
  {
   "cell_type": "code",
   "execution_count": 45,
   "id": "98bbcd42",
   "metadata": {},
   "outputs": [
    {
     "name": "stdout",
     "output_type": "stream",
     "text": [
      "The day of the week with the maximum rides in September 2010: Thursday with 457 rides.\n"
     ]
    }
   ],
   "source": [
    "# Filter the data for rides in September 2010\n",
    "rides_september_2010 = uber[(uber['pickup_datetime'].dt.year == 2010) & \n",
    "                            (uber['pickup_datetime'].dt.month == 9)]\n",
    "\n",
    "# Extract the day of the week (Monday=0, Sunday=6)\n",
    "rides_september_2010['day_of_week'] = rides_september_2010['pickup_datetime'].dt.day_name()\n",
    "\n",
    "# Count the number of rides for each day of the week\n",
    "rides_per_day = rides_september_2010['day_of_week'].value_counts()\n",
    "\n",
    "# Find the day with the maximum number of rides\n",
    "max_rides_day = rides_per_day.idxmax()\n",
    "max_rides_count = rides_per_day.max()\n",
    "\n",
    "print(f\"The day of the week with the maximum rides in September 2010: {max_rides_day} with {max_rides_count} rides.\")"
   ]
  },
  {
   "cell_type": "markdown",
   "id": "6c4a4759",
   "metadata": {},
   "source": [
    "### Apply a Machine Learning Algorithm to predict the fare amount given following input features:\n",
    "passenger_count, distance and ride_week_day.\n",
    "\n",
    "Perform a 70-30 split of data.\n",
    "\n",
    "Which algorithm gives the least adjusted R square value?"
   ]
  },
  {
   "cell_type": "code",
   "execution_count": 46,
   "id": "e9241995",
   "metadata": {},
   "outputs": [],
   "source": [
    "from sklearn.model_selection import train_test_split\n",
    "from sklearn.linear_model import LinearRegression\n",
    "from sklearn.tree import DecisionTreeRegressor\n",
    "from sklearn.ensemble import RandomForestRegressor\n",
    "from sklearn.metrics import r2_score"
   ]
  },
  {
   "cell_type": "code",
   "execution_count": 47,
   "id": "7ff3fccb",
   "metadata": {},
   "outputs": [],
   "source": [
    "# Extract the day of the week from the 'pickup_datetime' column\n",
    "data_cleaned['pickup_datetime'] = pd.to_datetime(data_cleaned['pickup_datetime'], errors='coerce')\n",
    "data_cleaned['ride_week_day'] = data_cleaned['pickup_datetime'].dt.day_name()"
   ]
  },
  {
   "cell_type": "code",
   "execution_count": 48,
   "id": "b211d4d2",
   "metadata": {},
   "outputs": [],
   "source": [
    "# Convert 'ride_week_day' into categorical feature\n",
    "data_cleaned = pd.get_dummies(data_cleaned, columns=['ride_week_day'], drop_first=True)"
   ]
  },
  {
   "cell_type": "code",
   "execution_count": 50,
   "id": "66a88594",
   "metadata": {},
   "outputs": [],
   "source": [
    "# Features and target\n",
    "X = data_cleaned[['passenger_count'] + [col for col in data_cleaned if col.startswith('ride_week_day')]]\n",
    "y = data_cleaned['fare_amount']"
   ]
  },
  {
   "cell_type": "code",
   "execution_count": 51,
   "id": "fce5574d",
   "metadata": {},
   "outputs": [],
   "source": [
    "# Split the data into training (70%) and testing (30%) sets\n",
    "X_train, X_test, y_train, y_test = train_test_split(X, y, test_size=0.30, random_state=42)"
   ]
  },
  {
   "cell_type": "code",
   "execution_count": 52,
   "id": "2dc366b9",
   "metadata": {},
   "outputs": [],
   "source": [
    "# Initialize models\n",
    "models = {\n",
    "    \"Linear Regression\": LinearRegression(),\n",
    "    \"Decision Tree\": DecisionTreeRegressor(random_state=42),\n",
    "    \"Random Forest\": RandomForestRegressor(random_state=42)\n",
    "}"
   ]
  },
  {
   "cell_type": "code",
   "execution_count": 53,
   "id": "776b6aa9",
   "metadata": {},
   "outputs": [],
   "source": [
    "# Function to calculate adjusted R-squared\n",
    "def adjusted_r2(r2, n, p):\n",
    "    return 1 - (1 - r2) * (n - 1) / (n - p - 1)"
   ]
  },
  {
   "cell_type": "code",
   "execution_count": 56,
   "id": "9d8f312d",
   "metadata": {},
   "outputs": [
    {
     "name": "stdout",
     "output_type": "stream",
     "text": [
      "Linear Regression - R2: 0.0005, Adjusted R2: 0.0004\n",
      "Decision Tree - R2: 0.0006, Adjusted R2: 0.0005\n",
      "Random Forest - R2: 0.0006, Adjusted R2: 0.0005\n"
     ]
    }
   ],
   "source": [
    "# Train and evaluate models\n",
    "for name, model in models.items():\n",
    "    model.fit(X_train, y_train)\n",
    "    y_pred = model.predict(X_test)\n",
    "    \n",
    "    # Calculate R-squared and adjusted R-squared\n",
    "    r2 = r2_score(y_test, y_pred)\n",
    "    adj_r2 = adjusted_r2(r2, X_test.shape[0], X_test.shape[1])\n",
    "    \n",
    "    print(f\"{name} - R2: {r2:.4f}, Adjusted R2: {adj_r2:.4f}\")"
   ]
  },
  {
   "cell_type": "markdown",
   "id": "b19ef48a",
   "metadata": {},
   "source": [
    "# Linear Regression has the lowest adjusted R², indicating that it explains the least variance in the target variable (fare_amount) given the features provided."
   ]
  },
  {
   "cell_type": "code",
   "execution_count": null,
   "id": "1ec46d70",
   "metadata": {},
   "outputs": [],
   "source": []
  },
  {
   "cell_type": "code",
   "execution_count": null,
   "id": "67aee1f7",
   "metadata": {},
   "outputs": [],
   "source": []
  },
  {
   "cell_type": "code",
   "execution_count": null,
   "id": "b53fc3c0",
   "metadata": {},
   "outputs": [],
   "source": []
  },
  {
   "cell_type": "code",
   "execution_count": null,
   "id": "897ffa26",
   "metadata": {},
   "outputs": [],
   "source": []
  },
  {
   "cell_type": "code",
   "execution_count": null,
   "id": "afa0b071",
   "metadata": {},
   "outputs": [],
   "source": []
  },
  {
   "cell_type": "code",
   "execution_count": null,
   "id": "075eadae",
   "metadata": {},
   "outputs": [],
   "source": []
  },
  {
   "cell_type": "code",
   "execution_count": null,
   "id": "10fd8f13",
   "metadata": {},
   "outputs": [],
   "source": []
  },
  {
   "cell_type": "code",
   "execution_count": null,
   "id": "d2ac511e",
   "metadata": {},
   "outputs": [],
   "source": []
  },
  {
   "cell_type": "code",
   "execution_count": null,
   "id": "e82c056f",
   "metadata": {},
   "outputs": [],
   "source": []
  },
  {
   "cell_type": "code",
   "execution_count": null,
   "id": "bd2566ab",
   "metadata": {},
   "outputs": [],
   "source": []
  },
  {
   "cell_type": "code",
   "execution_count": null,
   "id": "11d6eb5c",
   "metadata": {},
   "outputs": [],
   "source": []
  },
  {
   "cell_type": "code",
   "execution_count": null,
   "id": "2f94ab5d",
   "metadata": {},
   "outputs": [],
   "source": []
  },
  {
   "cell_type": "code",
   "execution_count": null,
   "id": "f7280046",
   "metadata": {},
   "outputs": [],
   "source": []
  },
  {
   "cell_type": "code",
   "execution_count": null,
   "id": "c259e2ca",
   "metadata": {},
   "outputs": [],
   "source": []
  },
  {
   "cell_type": "code",
   "execution_count": null,
   "id": "848eab5a",
   "metadata": {},
   "outputs": [],
   "source": []
  },
  {
   "cell_type": "code",
   "execution_count": null,
   "id": "e63fe46d",
   "metadata": {},
   "outputs": [],
   "source": []
  },
  {
   "cell_type": "code",
   "execution_count": null,
   "id": "34e7a416",
   "metadata": {},
   "outputs": [],
   "source": []
  },
  {
   "cell_type": "code",
   "execution_count": null,
   "id": "9bf64f4f",
   "metadata": {},
   "outputs": [],
   "source": []
  },
  {
   "cell_type": "code",
   "execution_count": null,
   "id": "bd21ac80",
   "metadata": {},
   "outputs": [],
   "source": []
  },
  {
   "cell_type": "code",
   "execution_count": null,
   "id": "0b58c461",
   "metadata": {},
   "outputs": [],
   "source": []
  }
 ],
 "metadata": {
  "kernelspec": {
   "display_name": "Python 3 (ipykernel)",
   "language": "python",
   "name": "python3"
  },
  "language_info": {
   "codemirror_mode": {
    "name": "ipython",
    "version": 3
   },
   "file_extension": ".py",
   "mimetype": "text/x-python",
   "name": "python",
   "nbconvert_exporter": "python",
   "pygments_lexer": "ipython3",
   "version": "3.9.13"
  }
 },
 "nbformat": 4,
 "nbformat_minor": 5
}
